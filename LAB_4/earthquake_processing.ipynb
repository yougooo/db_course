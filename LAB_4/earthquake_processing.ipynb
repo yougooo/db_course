{
 "cells": [
  {
   "cell_type": "code",
   "execution_count": 1,
   "metadata": {
    "collapsed": true,
    "deletable": true,
    "editable": true
   },
   "outputs": [],
   "source": [
    "import pandas as pd\n",
    "import numpy as np\n",
    "import matplotlib.pyplot as plt\n",
    "import seaborn as sns; sns.set()\n",
    "import re\n",
    "import psycopg2"
   ]
  },
  {
   "cell_type": "code",
   "execution_count": 2,
   "metadata": {
    "collapsed": false,
    "deletable": true,
    "editable": true
   },
   "outputs": [],
   "source": [
    "earth_data = pd.read_csv('Mag6PlusEarthquakes_1900-2013.csv', parse_dates=True)"
   ]
  },
  {
   "cell_type": "code",
   "execution_count": 3,
   "metadata": {
    "collapsed": false,
    "deletable": true,
    "editable": true
   },
   "outputs": [
    {
     "data": {
      "text/html": [
       "<div>\n",
       "<table border=\"1\" class=\"dataframe\">\n",
       "  <thead>\n",
       "    <tr style=\"text-align: right;\">\n",
       "      <th></th>\n",
       "      <th>latitude</th>\n",
       "      <th>longitude</th>\n",
       "      <th>depth</th>\n",
       "      <th>mag</th>\n",
       "      <th>nst</th>\n",
       "      <th>gap</th>\n",
       "      <th>dmin</th>\n",
       "      <th>rms</th>\n",
       "    </tr>\n",
       "  </thead>\n",
       "  <tbody>\n",
       "    <tr>\n",
       "      <th>count</th>\n",
       "      <td>8313.000000</td>\n",
       "      <td>8313.000000</td>\n",
       "      <td>8313.000000</td>\n",
       "      <td>8312.000000</td>\n",
       "      <td>8111.000000</td>\n",
       "      <td>1098.000000</td>\n",
       "      <td>164.000000</td>\n",
       "      <td>1164.000000</td>\n",
       "    </tr>\n",
       "    <tr>\n",
       "      <th>mean</th>\n",
       "      <td>4.954110</td>\n",
       "      <td>47.350161</td>\n",
       "      <td>76.855975</td>\n",
       "      <td>6.564870</td>\n",
       "      <td>245.151399</td>\n",
       "      <td>30.418670</td>\n",
       "      <td>4.264072</td>\n",
       "      <td>1.007775</td>\n",
       "    </tr>\n",
       "    <tr>\n",
       "      <th>std</th>\n",
       "      <td>29.898265</td>\n",
       "      <td>122.446592</td>\n",
       "      <td>134.029768</td>\n",
       "      <td>0.482917</td>\n",
       "      <td>204.853588</td>\n",
       "      <td>19.698842</td>\n",
       "      <td>4.018516</td>\n",
       "      <td>0.186605</td>\n",
       "    </tr>\n",
       "    <tr>\n",
       "      <th>min</th>\n",
       "      <td>-71.000000</td>\n",
       "      <td>-179.990000</td>\n",
       "      <td>0.000000</td>\n",
       "      <td>6.000000</td>\n",
       "      <td>0.000000</td>\n",
       "      <td>8.700000</td>\n",
       "      <td>0.017966</td>\n",
       "      <td>0.000000</td>\n",
       "    </tr>\n",
       "    <tr>\n",
       "      <th>25%</th>\n",
       "      <td>-16.120000</td>\n",
       "      <td>-72.051000</td>\n",
       "      <td>15.000000</td>\n",
       "      <td>6.200000</td>\n",
       "      <td>63.000000</td>\n",
       "      <td>17.900000</td>\n",
       "      <td>1.476750</td>\n",
       "      <td>0.880000</td>\n",
       "    </tr>\n",
       "    <tr>\n",
       "      <th>50%</th>\n",
       "      <td>-0.534000</td>\n",
       "      <td>120.231000</td>\n",
       "      <td>32.100000</td>\n",
       "      <td>6.500000</td>\n",
       "      <td>221.000000</td>\n",
       "      <td>24.700000</td>\n",
       "      <td>3.271137</td>\n",
       "      <td>0.990000</td>\n",
       "    </tr>\n",
       "    <tr>\n",
       "      <th>75%</th>\n",
       "      <td>32.327000</td>\n",
       "      <td>146.430000</td>\n",
       "      <td>57.200000</td>\n",
       "      <td>6.900000</td>\n",
       "      <td>371.500000</td>\n",
       "      <td>36.900000</td>\n",
       "      <td>5.790000</td>\n",
       "      <td>1.130000</td>\n",
       "    </tr>\n",
       "    <tr>\n",
       "      <th>max</th>\n",
       "      <td>84.964000</td>\n",
       "      <td>180.000000</td>\n",
       "      <td>720.000000</td>\n",
       "      <td>9.600000</td>\n",
       "      <td>999.000000</td>\n",
       "      <td>230.400000</td>\n",
       "      <td>26.063000</td>\n",
       "      <td>1.680000</td>\n",
       "    </tr>\n",
       "  </tbody>\n",
       "</table>\n",
       "</div>"
      ],
      "text/plain": [
       "          latitude    longitude        depth          mag          nst  \\\n",
       "count  8313.000000  8313.000000  8313.000000  8312.000000  8111.000000   \n",
       "mean      4.954110    47.350161    76.855975     6.564870   245.151399   \n",
       "std      29.898265   122.446592   134.029768     0.482917   204.853588   \n",
       "min     -71.000000  -179.990000     0.000000     6.000000     0.000000   \n",
       "25%     -16.120000   -72.051000    15.000000     6.200000    63.000000   \n",
       "50%      -0.534000   120.231000    32.100000     6.500000   221.000000   \n",
       "75%      32.327000   146.430000    57.200000     6.900000   371.500000   \n",
       "max      84.964000   180.000000   720.000000     9.600000   999.000000   \n",
       "\n",
       "               gap        dmin          rms  \n",
       "count  1098.000000  164.000000  1164.000000  \n",
       "mean     30.418670    4.264072     1.007775  \n",
       "std      19.698842    4.018516     0.186605  \n",
       "min       8.700000    0.017966     0.000000  \n",
       "25%      17.900000    1.476750     0.880000  \n",
       "50%      24.700000    3.271137     0.990000  \n",
       "75%      36.900000    5.790000     1.130000  \n",
       "max     230.400000   26.063000     1.680000  "
      ]
     },
     "execution_count": 3,
     "metadata": {},
     "output_type": "execute_result"
    }
   ],
   "source": [
    "earth_data.describe()"
   ]
  },
  {
   "cell_type": "markdown",
   "metadata": {
    "deletable": true,
    "editable": true
   },
   "source": [
    "![title](lab_4.png)"
   ]
  },
  {
   "cell_type": "code",
   "execution_count": 110,
   "metadata": {
    "collapsed": false,
    "deletable": true,
    "editable": true
   },
   "outputs": [],
   "source": [
    "connection = psycopg2.connect(database='lab_4', user='alex', password='')\n",
    "cursor = connection.cursor()"
   ]
  },
  {
   "cell_type": "code",
   "execution_count": 111,
   "metadata": {
    "collapsed": false,
    "deletable": true,
    "editable": true
   },
   "outputs": [],
   "source": [
    "cursor.execute(\"DROP TABLE IF EXISTS earthquake\")\n",
    "cursor.execute(\"DROP TABLE IF EXISTS locations\")\n",
    "cursor.execute(\"DROP TABLE IF EXISTS places\")\n",
    "cursor.execute(\"DROP TABLE IF EXISTS net\")\n",
    "cursor.execute(\"DROP TABLE IF EXISTS magnitude\")\n",
    "cursor.execute(\"DROP TABLE IF EXISTS stations\")\n"
   ]
  },
  {
   "cell_type": "code",
   "execution_count": 112,
   "metadata": {
    "collapsed": false,
    "deletable": true,
    "editable": true
   },
   "outputs": [
    {
     "name": "stdout",
     "output_type": "stream",
     "text": [
      "8313\n",
      "755\n"
     ]
    }
   ],
   "source": [
    "event_list = list(map(lambda i: (earth_data['place'][i]), xrange(len(earth_data['longitude']))))\n",
    "print len(event_list) \n",
    "print len(set(event_list))"
   ]
  },
  {
   "cell_type": "code",
   "execution_count": null,
   "metadata": {
    "collapsed": false,
    "deletable": true,
    "editable": true
   },
   "outputs": [],
   "source": [
    "cursor.execute(\"CREATE EXTENSION postgis\")"
   ]
  },
  {
   "cell_type": "code",
   "execution_count": 113,
   "metadata": {
    "collapsed": false,
    "deletable": true,
    "editable": true
   },
   "outputs": [],
   "source": [
    "cursor.execute(\"CREATE TABLE net(\"+\n",
    "               \"net_id SERIAL UNIQUE,\"+\n",
    "               \"net varchar(15) PRIMARY KEY)\")"
   ]
  },
  {
   "cell_type": "code",
   "execution_count": 114,
   "metadata": {
    "collapsed": false,
    "deletable": true,
    "editable": true
   },
   "outputs": [],
   "source": [
    "cursor.execute(\"CREATE TABLE places(\"\n",
    "               \"place_id SERIAL PRIMARY KEY,\"+\n",
    "               \"place varchar(255))\")"
   ]
  },
  {
   "cell_type": "markdown",
   "metadata": {
    "deletable": true,
    "editable": true
   },
   "source": [
    "### Earthquake may happen in same points, of course not so frequently, but its not good for database table. May be improved by creating event table. Now primary key is 'local_id', bad choise but it is give possibility for quick import data to database for some tests. Column 'place' have 755 unique values. "
   ]
  },
  {
   "cell_type": "code",
   "execution_count": 115,
   "metadata": {
    "collapsed": false,
    "deletable": true,
    "editable": true
   },
   "outputs": [],
   "source": [
    "cursor.execute(\"CREATE TABLE locations(\"+\n",
    "               \"local_id SERIAL UNIQUE,\"+\n",
    "               \"coord geometry(Point),\"\n",
    "               \"depth real,\"+\n",
    "               \"place int4 REFERENCES places(place_id),\"+\n",
    "               \"net int4 REFERENCES net(net_id),\"+\n",
    "               \"PRIMARY KEY(local_id))\")"
   ]
  },
  {
   "cell_type": "code",
   "execution_count": 116,
   "metadata": {
    "collapsed": true,
    "deletable": true,
    "editable": true
   },
   "outputs": [],
   "source": [
    "cursor.execute(\"CREATE TABLE magnitude(\"+\n",
    "               \"mag_id SERIAL UNIQUE,\"+\n",
    "               \"magtype varchar(5) PRIMARY KEY)\")"
   ]
  },
  {
   "cell_type": "code",
   "execution_count": 117,
   "metadata": {
    "collapsed": true,
    "deletable": true,
    "editable": true
   },
   "outputs": [],
   "source": [
    "cursor.execute(\"CREATE TABLE stations(\"+\n",
    "               \"station_id SERIAL PRIMARY KEY,\"+\n",
    "               \"nst int4,\"+\n",
    "               \"gap real,\"+\n",
    "               \"dmin real,\"+\n",
    "               \"rms real)\")"
   ]
  },
  {
   "cell_type": "code",
   "execution_count": 118,
   "metadata": {
    "collapsed": false,
    "deletable": true,
    "editable": true
   },
   "outputs": [],
   "source": [
    "cursor.execute(\"CREATE TABLE earthquake(\"+\n",
    "               \"id varchar(255) PRIMARY KEY,\"+\n",
    "               \"time timestamp NOT NULL,\"+\n",
    "               \"location int4 REFERENCES locations(local_id),\"+\n",
    "               \"mag float NOT NULL,\"+\n",
    "               \"magnitude int4 REFERENCES magnitude(mag_id),\"+\n",
    "               \"receive_station int4 REFERENCES stations(station_id),\"+\n",
    "               \"update_time timestamp NOT NULL)\"\n",
    "                )"
   ]
  },
  {
   "cell_type": "code",
   "execution_count": 119,
   "metadata": {
    "collapsed": false,
    "deletable": true,
    "editable": true
   },
   "outputs": [
    {
     "name": "stdout",
     "output_type": "stream",
     "text": [
      "[nan, 'Mwc', 'mwp', 'mww', 'mwr', 'Mwb', 'Mt', 'mb', 'mw', 'mj', 'mwc', 'mwb', 'Mw', 'Mwp', 'uk', 'ms', 'Mww']\n"
     ]
    }
   ],
   "source": [
    "mag_list = list(set(earth_data['magType']))\n",
    "print mag_list"
   ]
  },
  {
   "cell_type": "code",
   "execution_count": 120,
   "metadata": {
    "collapsed": false,
    "deletable": true,
    "editable": true
   },
   "outputs": [],
   "source": [
    "# insert data into magnitude table\n",
    "for mag in mag_list:\n",
    "    cursor.execute(\"INSERT INTO magnitude (magtype) VALUES (%s)\", (mag,))"
   ]
  },
  {
   "cell_type": "code",
   "execution_count": 121,
   "metadata": {
    "collapsed": false,
    "deletable": true,
    "editable": true
   },
   "outputs": [
    {
     "name": "stdout",
     "output_type": "stream",
     "text": [
      "['official', 'nc', 'us', 'centennial', 'atlas', 'pde']\n"
     ]
    }
   ],
   "source": [
    "net_list = list(set(earth_data['net']))\n",
    "print net_list"
   ]
  },
  {
   "cell_type": "code",
   "execution_count": 122,
   "metadata": {
    "collapsed": true,
    "deletable": true,
    "editable": true
   },
   "outputs": [],
   "source": [
    "# insert data into net table\n",
    "for net in net_list:\n",
    "    cursor.execute(\"INSERT INTO net (net) VALUES (%s)\", (net,))"
   ]
  },
  {
   "cell_type": "markdown",
   "metadata": {
    "deletable": true,
    "editable": true
   },
   "source": [
    "### For insert data with key, python have great dictionary realization. And it is way to do complex key in database."
   ]
  },
  {
   "cell_type": "code",
   "execution_count": 123,
   "metadata": {
    "collapsed": true,
    "deletable": true,
    "editable": true
   },
   "outputs": [],
   "source": [
    "dict_maker = lambda data_list: {key:item for key,item in zip(data_list, range(1,len(data_list)+1))}"
   ]
  },
  {
   "cell_type": "code",
   "execution_count": 124,
   "metadata": {
    "collapsed": true,
    "deletable": true,
    "editable": true
   },
   "outputs": [],
   "source": [
    "place_list = list(set(earth_data['place']))"
   ]
  },
  {
   "cell_type": "code",
   "execution_count": 125,
   "metadata": {
    "collapsed": false,
    "deletable": true,
    "editable": true
   },
   "outputs": [],
   "source": [
    "for place in place_list:\n",
    "    cursor.execute(\"INSERT INTO places (place) VALUES (%s)\", (place,))"
   ]
  },
  {
   "cell_type": "code",
   "execution_count": 126,
   "metadata": {
    "collapsed": false,
    "deletable": true,
    "editable": true
   },
   "outputs": [],
   "source": [
    "net_dict = dict_maker(net_list)\n",
    "mag_dict = dict_maker(mag_list)\n",
    "place_dict = dict_maker(place_list)"
   ]
  },
  {
   "cell_type": "code",
   "execution_count": 127,
   "metadata": {
    "collapsed": false,
    "deletable": true,
    "editable": true
   },
   "outputs": [],
   "source": [
    "for i in range(len(earth_data['longitude'])):\n",
    "    coord = 'POINT( {} {} )'.format(earth_data['longitude'][i],earth_data['latitude'][i])\n",
    "    cursor.execute(\"INSERT INTO locations (coord, depth, place, net) VALUES (ST_PointFromText( %s ), %s, %s, %s)\",\n",
    "                  (coord, earth_data['depth'][i], place_dict[earth_data['place'][i]], net_dict[earth_data['net'][i]],))"
   ]
  },
  {
   "cell_type": "code",
   "execution_count": 128,
   "metadata": {
    "collapsed": true,
    "deletable": true,
    "editable": true
   },
   "outputs": [],
   "source": [
    "earth_data['nst'] = earth_data['nst'].replace(np.nan, 0)\n",
    "earth_data['gap'] = earth_data['gap'].replace(np.nan, 0)\n",
    "earth_data['dmin'] = earth_data['dmin'].replace(np.nan, 0)\n",
    "earth_data['rms'] = earth_data['rms'].replace(np.nan, 0)"
   ]
  },
  {
   "cell_type": "code",
   "execution_count": 129,
   "metadata": {
    "collapsed": false,
    "deletable": true,
    "editable": true
   },
   "outputs": [],
   "source": [
    "for i in range(len(earth_data['longitude'])):\n",
    "        cursor.execute(\"INSERT INTO stations (nst, gap, dmin, rms) VALUES (%s, %s, %s, %s)\", \n",
    "                       (earth_data['nst'][i],earth_data['gap'][i],earth_data['dmin'][i],earth_data['rms'][i]),)"
   ]
  },
  {
   "cell_type": "code",
   "execution_count": 130,
   "metadata": {
    "collapsed": false,
    "deletable": true,
    "editable": true
   },
   "outputs": [],
   "source": [
    "for i in range(len(earth_data['longitude'])):\n",
    "    cursor.execute(\"INSERT INTO earthquake (id, time, location, mag, magnitude, receive_station, update_time) VALUES (%s, %s, %s, %s, %s, %s, %s)\", \n",
    "                       (earth_data['id'][i],earth_data['time'][i],place_dict[earth_data['place'][i]], \n",
    "                        earth_data['mag'][i], mag_dict[earth_data['magType'][i]], i+1, earth_data['updated'][i]))"
   ]
  },
  {
   "cell_type": "code",
   "execution_count": 133,
   "metadata": {
    "collapsed": false,
    "deletable": true,
    "editable": true
   },
   "outputs": [
    {
     "name": "stdout",
     "output_type": "stream",
     "text": [
      "\n"
     ]
    }
   ],
   "source": [
    "connection.commit()\n",
    "cursor.close()\n",
    "connection.close()"
   ]
  },
  {
   "cell_type": "markdown",
   "metadata": {},
   "source": [
    "After above steps we can open ours points in any GIS(more easy way open from csv file(of course without any relations)). I choose QGIS for next steps, because it is best gis in open source world.\n",
    "1. Add vector layer\n",
    "2. Choose data source Database\n",
    "3. Edit connection to our database\n",
    "![title](lab_4_1.png)\n",
    "If all okay with data qgis automatically detect geometry in table and load to project.\n",
    "![title](lab_4_2.png)\n",
    "For spatial(or not spatial) query used DBManager.\n",
    "Logicly querys look like very bad(need improve ids and restrict some data collision), but it is works.\n",
    "![title](4_3.png)\n",
    "After run query we can save results as new layer or create view.\n",
    "![title](lab_4_4.png)\n",
    "##### SELECT earthquake.*, locations.coord, locations.local_id FROM earthquake JOIN locations ON locations.local_id=earthquake.receive_station WHERE earthquake.mag > 7.5;\n",
    "![title](lab_4_5.png)\n",
    "#### SELECT stations.*, locations.coord, locations.local_id FROM stations JOIN locations ON locations.local_id=stations.station_id  WHERE stations.nst < 2;\n",
    "![title](lab_4_6.png)\n",
    "Also we can import data to ArcGis geodatabase when we need to do this."
   ]
  },
  {
   "cell_type": "code",
   "execution_count": null,
   "metadata": {
    "collapsed": true
   },
   "outputs": [],
   "source": []
  }
 ],
 "metadata": {
  "kernelspec": {
   "display_name": "Python 2",
   "language": "python",
   "name": "python2"
  },
  "language_info": {
   "codemirror_mode": {
    "name": "ipython",
    "version": 2
   },
   "file_extension": ".py",
   "mimetype": "text/x-python",
   "name": "python",
   "nbconvert_exporter": "python",
   "pygments_lexer": "ipython2",
   "version": "2.7.12"
  }
 },
 "nbformat": 4,
 "nbformat_minor": 2
}
